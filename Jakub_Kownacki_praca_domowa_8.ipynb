{
  "nbformat": 4,
  "nbformat_minor": 0,
  "metadata": {
    "colab": {
      "provenance": [],
      "authorship_tag": "ABX9TyN+u/5e1Xy2sCsAkxVooDQL",
      "include_colab_link": true
    },
    "kernelspec": {
      "name": "python3",
      "display_name": "Python 3"
    },
    "language_info": {
      "name": "python"
    }
  },
  "cells": [
    {
      "cell_type": "markdown",
      "metadata": {
        "id": "view-in-github",
        "colab_type": "text"
      },
      "source": [
        "<a href=\"https://colab.research.google.com/github/Jaksta1/Uczenie_Maszynowe_2025/blob/main/Jakub_Kownacki_praca_domowa_8.ipynb\" target=\"_parent\"><img src=\"https://colab.research.google.com/assets/colab-badge.svg\" alt=\"Open In Colab\"/></a>"
      ]
    },
    {
      "cell_type": "markdown",
      "source": [
        "---------------------------------\n",
        "# 1. Importowanie bibliotek\n",
        "---------------------------------"
      ],
      "metadata": {
        "id": "ZqmEufEwLMCD"
      }
    },
    {
      "cell_type": "code",
      "source": [
        "import torch\n",
        "import matplotlib.pyplot as plt\n",
        "import numpy as np\n",
        "import matplotlib.animation as animation\n",
        "from IPython.display import HTML\n",
        "plt.rcParams['animation.embed_limit'] = 50 #zwiększenie limitu pamięci do stworzenia animacji\n",
        "# Ustawienie ziarna dla powtarzalności\n",
        "torch.manual_seed(42)\n",
        "np.random.seed(42)"
      ],
      "metadata": {
        "id": "0S6eQNomJm7D"
      },
      "execution_count": null,
      "outputs": []
    },
    {
      "cell_type": "markdown",
      "source": [
        "-------------------------------------------\n",
        "#2. Ustawienia parametrów\n",
        "-------------------------------------------"
      ],
      "metadata": {
        "id": "ECALgDkOLbfV"
      }
    },
    {
      "cell_type": "code",
      "source": [
        "# Parametry elipsy\n",
        "focus1 = torch.tensor([-2.0, 0.0])  # Pierwsze ognisko\n",
        "focus2 = torch.tensor([2.0, 0.0])   # Drugie ognisko\n",
        "constant_sum = 6.0                  # Stała suma odległości\n",
        "\n",
        "# Inicjalizacja losowych punktów\n",
        "num_points = 100\n",
        "points = torch.rand((num_points, 2)) * 10 - 5  # Rozkład jednostajny w [-5, 5]\n",
        "points.requires_grad = True"
      ],
      "metadata": {
        "id": "rV_KIIy5Lw7b"
      },
      "execution_count": null,
      "outputs": []
    },
    {
      "cell_type": "markdown",
      "source": [
        "------------------------------------------------\n",
        "#3. Funkcje pomocnicze\n",
        "------------------------------------------------"
      ],
      "metadata": {
        "id": "6J-EKi9tLzJF"
      }
    },
    {
      "cell_type": "code",
      "source": [
        "# Funkcja obliczająca odległości\n",
        "def compute_distances(points, focus1, focus2):\n",
        "    dist1 = torch.norm(points - focus1, dim=1)\n",
        "    dist2 = torch.norm(points - focus2, dim=1)\n",
        "    return dist1, dist2\n",
        "\n",
        "def l0_approx_sigmoid(epsilon, delta, alpha=50):\n",
        "    \"\"\"\n",
        "    Aproksymacja normy L0 za pomocą funkcji sigmoidalnej.\n",
        "    Parametry:\n",
        "        epsilon: tensor wartości błędów\n",
        "        delta: próg, poniżej którego błędy są uznawane za zerowe\n",
        "        alpha: parametr kontrolujący nachylenie funkcji sigmoidalnej, większe wartości alpha sprawiają,\n",
        "        że aproksymacja staje się bardziej \"skokowa\", zbliżając się do idealnej normy L0\n",
        "        różniczkowalność: funkcja sigmoidalna jest różniczkowalna, zatem możemy jej użyć do\n",
        "        obliczenia gradientu funkcji straty.\n",
        "    Zwraca:\n",
        "        aproksymowaną wartość normy L0\n",
        "    \"\"\"\n",
        "    return 1 / (1 + torch.exp(-alpha * (torch.abs(epsilon) - delta)))\n",
        "\n",
        "# Funkcja treningowa z zapisem trajektorii i straty\n",
        "def train_with_animation(loss_type, num_epochs=1000, lr=0.1):\n",
        "    points = torch.rand((num_points, 2)) * 10 - 5\n",
        "    points.requires_grad = True\n",
        "    optimizer = torch.optim.Adam([points], lr=lr)\n",
        "    trajectories = []  # Lista do przechowywania położenia punktów w każdej epoce\n",
        "    loss_history = []  # Lista do przechowywania wartości straty w każdej epoce\n",
        "\n",
        "    for epoch in range(num_epochs):\n",
        "        optimizer.zero_grad()\n",
        "        dist1, dist2 = compute_distances(points, focus1, focus2)\n",
        "        epsilon = dist1 + dist2 - constant_sum\n",
        "\n",
        "        if loss_type == \"l2\":\n",
        "            loss = torch.mean(epsilon ** 2)\n",
        "        elif loss_type == \"l1\":\n",
        "            loss = torch.mean(torch.abs(epsilon))\n",
        "        elif loss_type == \"linf\":\n",
        "            loss = torch.max(torch.abs(epsilon))\n",
        "        elif loss_type == \"l0\":\n",
        "            delta = 0.01\n",
        "            loss = torch.mean(l0_approx_sigmoid(epsilon, delta))  # Użyj aproksymacji sigmoidalnej\n",
        "        else:\n",
        "            raise ValueError(\"Nieprawidłowy typ straty\")\n",
        "\n",
        "        loss.backward()\n",
        "        optimizer.step()\n",
        "\n",
        "        # Zapisz aktualne położenia punktów i stratę\n",
        "        trajectories.append(points.detach().clone().numpy())\n",
        "        loss_history.append(loss.item())\n",
        "\n",
        "    return trajectories, loss_history"
      ],
      "metadata": {
        "id": "-dyRgQ02MFNa"
      },
      "execution_count": null,
      "outputs": []
    },
    {
      "cell_type": "markdown",
      "source": [
        "---------------------------------------------\n",
        "#4. Trening dla straty L1\n",
        "---------------------------------------------"
      ],
      "metadata": {
        "id": "mYMnk26mM3mQ"
      }
    },
    {
      "cell_type": "code",
      "source": [
        "# Uruchom trening dla straty l1\n",
        "trajectories_l1, loss_history_l1 = train_with_animation(\"l1\", num_epochs=300)\n",
        "\n",
        "# Tworzenie animacji z dwoma subplotami\n",
        "fig_l1, (ax1_l1, ax2_l1) = plt.subplots(1, 2, figsize=(12, 6))\n",
        "\n",
        "# Subplot 1: Punkty\n",
        "ax1_l1.set_xlim(-6, 6)\n",
        "ax1_l1.set_ylim(-6, 6)\n",
        "scatter_l1 = ax1_l1.scatter([], [], label='Punkty')\n",
        "ax1_l1.scatter([focus1[0], focus2[0]], [focus1[1], focus2[1]], color='red', marker='x', s=100, label='Ogniska')\n",
        "ax1_l1.legend()\n",
        "ax1_l1.grid()\n",
        "ax1_l1.set_title('Ruch punktów dla straty L1')\n",
        "\n",
        "# Subplot 2: Wykres straty\n",
        "ax2_l1.set_xlim(0, len(loss_history_l1))\n",
        "ax2_l1.set_ylim(0, max(loss_history_l1) * 1.1)\n",
        "line_l1, = ax2_l1.plot([], [], color='blue')\n",
        "ax2_l1.set_xlabel('Epoka')\n",
        "ax2_l1.set_ylabel('Strata')\n",
        "ax2_l1.set_title('Przebieg funkcji straty L1')\n",
        "ax2_l1.grid()\n",
        "\n",
        "def update_l1(frame):\n",
        "    # Aktualizacja położenia punktów\n",
        "    scatter_l1.set_offsets(trajectories_l1[frame])\n",
        "\n",
        "    # Aktualizacja wykresu straty\n",
        "    line_l1.set_data(range(frame + 1), loss_history_l1[:frame + 1])\n",
        "\n",
        "    return scatter_l1, line_l1\n",
        "\n",
        "ani_l1 = animation.FuncAnimation(fig_l1, update_l1, frames=len(trajectories_l1), interval=50, blit=True)\n",
        "print(\"Ostatnia wartość funkcji błędu L1:\", loss_history_l1[-1])\n",
        "\n",
        "# Wyświetlenie animacji w notebooku\n",
        "HTML(ani_l1.to_jshtml())\n"
      ],
      "metadata": {
        "id": "p2WOMuFPDH5W"
      },
      "execution_count": null,
      "outputs": []
    },
    {
      "cell_type": "markdown",
      "source": [
        "##Dlaczego strata $L^1$ nie zbiega do zera nawet po narysowaniu elipsy?\n",
        "\n",
        "Norma L1 to $𝐿_{\\text{ellipse}}^{(1)}=\\frac{1}{𝑁}∑_{𝑖=1}^𝑁∣𝜖_𝑖∣$, czyli średnia wartość bezwzględna błędów.\\\n",
        "Powodem nie zbiegania straty L1 do 0 jest to, że w przeciwieństwie do normy L2 (błędu kwadratowego), która silnie karze nawet małe odchylenia (gradient rośnie z błędem), norma L1 ma stały gradient (±1 w zależności od znaku $𝜖_𝑖 $​\n",
        " ). To sprawia, że małe błędy są słabo penalizowane, więc punkty mogą być blisko elipsy, ale nie dokładnie na niej. W związku z tym optymalizacja może oscylować lub zwolnić, gdy błędy są małe, co prowadzi do ustabilizowania wartości straty na poziomie powyżej zera.\\\n",
        "**Wynik**: Strata nie zbiega do zera, bo L1 nie wymusza precyzyjnego dopasowania punktów do warunku.\\\n",
        "Wszystkie te wnioski są zgodne z powyższą animacją, na której widać, że dla odpowiednio dużej liczby iteracji błąd utrzymuje się na stałej wartości około 0.02 pomimo tego, że uzyskaliśmy elipsę."
      ],
      "metadata": {
        "id": "h5jJqWVhM-W0"
      }
    },
    {
      "cell_type": "markdown",
      "source": [
        "----------------------------------------------\n",
        "#5. Trening dla straty $L^{∞}$\n",
        "-----------------------------------------------"
      ],
      "metadata": {
        "id": "_S9Er7tvPp7_"
      }
    },
    {
      "cell_type": "code",
      "source": [
        "# Uruchom trening dla straty L_inf\n",
        "trajectories_linf, loss_history_linf = train_with_animation(\"linf\", num_epochs=800)\n",
        "\n",
        "# Tworzenie animacji z dwoma subplotami\n",
        "fig_linf, (ax1_linf, ax2_linf) = plt.subplots(1, 2, figsize=(12, 6))\n",
        "\n",
        "# Subplot 1: Punkty\n",
        "ax1_linf.set_xlim(-6, 6)\n",
        "ax1_linf.set_ylim(-6, 6)\n",
        "scatter_linf = ax1_linf.scatter([], [], label='Punkty')\n",
        "ax1_linf.scatter([focus1[0], focus2[0]], [focus1[1], focus2[1]], color='red', marker='x', s=100, label='Ogniska')\n",
        "ax1_linf.legend()\n",
        "ax1_linf.grid()\n",
        "ax1_linf.set_title('Ruch punktów dla straty L_inf')\n",
        "\n",
        "# Subplot 2: Wykres straty\n",
        "ax2_linf.set_xlim(0, len(loss_history_linf))\n",
        "ax2_linf.set_ylim(0, max(loss_history_linf) * 1.1)\n",
        "line_linf, = ax2_linf.plot([], [], color='blue')\n",
        "ax2_linf.set_xlabel('Epoka')\n",
        "ax2_linf.set_ylabel('Strata')\n",
        "ax2_linf.set_title('Przebieg funkcji straty L_inf')\n",
        "ax2_linf.grid()\n",
        "\n",
        "def update_linf(frame):\n",
        "    # Aktualizacja położenia punktów\n",
        "    scatter_linf.set_offsets(trajectories_linf[frame])\n",
        "\n",
        "    # Aktualizacja wykresu straty\n",
        "    line_linf.set_data(range(frame + 1), loss_history_linf[:frame + 1])\n",
        "\n",
        "    return scatter_linf, line_linf\n",
        "\n",
        "ani_linf = animation.FuncAnimation(fig_linf, update_linf, frames=len(trajectories_linf), interval=50, blit=True)\n",
        "print(\"Ostatnia wartość funkcji błędu L_inf:\", loss_history_linf[-1])\n",
        "\n",
        "# Wyświetlenie animacji w notebooku\n",
        "HTML(ani_linf.to_jshtml())\n"
      ],
      "metadata": {
        "id": "qv00aaZsELtW"
      },
      "execution_count": null,
      "outputs": []
    },
    {
      "cell_type": "markdown",
      "source": [
        "##Dlaczego trening trwa długo i strata nie zbiega do zera?\n",
        "\n",
        "Norma $L_{\\text{inf}}$ to maksymalny błąd wśród wszystkich punktów.\\\n",
        "Zatem optymalizacja koncentruje się wyłącznie na punkcie z największym błędem, ignorując pozostałe, dopóki ten błąd nie zostanie zredukowany. To powoduje powolny postęp, bo tylko jeden punkt (lub kilka) jest poprawianych w każdej iteracji. Istnieje też ryzyko przełączanie się między punktami o największym błędzie, co prowadzi do nieefektywnego ruchu w przestrzeni, a brak równoczesnej poprawy wszystkich punktów utrudnia pełne dopasowanie do elipsy.\\\n",
        "**Wynik**: Trening jest wolny i często nie zbiega do zera, bo strategia \"najgorszego przypadku\" nie optymalizuje globalnie układu punktów.\\\n",
        "Na powyższej animacji ruchu punktów widać, że na początku udaje się uzyskać \"zarys\" elipsy, jednak w pewnym momencie algorytmowi ciężko wybrać punkty i kierunek ich przesunięcia taki, aby zmniejszyć błąd, co widać na animacji przebiegu funkcji straty."
      ],
      "metadata": {
        "id": "Q82YIViMU1XV"
      }
    },
    {
      "cell_type": "markdown",
      "source": [
        "-----------------------------------------------\n",
        "#6. Trening dla straty L0\n",
        "----------------------------------------------"
      ],
      "metadata": {
        "id": "uyNTbx7Oakcw"
      }
    },
    {
      "cell_type": "code",
      "source": [
        "# Uruchom trening dla straty l0\n",
        "trajectories_l0, loss_history_l0 = train_with_animation(\"l0\", num_epochs=300)\n",
        "\n",
        "# Tworzenie animacji z dwoma subplotami\n",
        "fig_l0, (ax1_l0, ax2_l0) = plt.subplots(1, 2, figsize=(12, 6))\n",
        "\n",
        "# Subplot 1: Punkty\n",
        "ax1_l0.set_xlim(-6, 6)\n",
        "ax1_l0.set_ylim(-6, 6)\n",
        "scatter_l0 = ax1_l0.scatter([], [], label='Punkty')\n",
        "ax1_l0.scatter([focus1[0], focus2[0]], [focus1[1], focus2[1]], color='red', marker='x', s=100, label='Ogniska')\n",
        "ax1_l0.legend()\n",
        "ax1_l0.grid()\n",
        "ax1_l0.set_title('Ruch punktów dla straty L0')\n",
        "\n",
        "# Subplot 2: Wykres straty\n",
        "ax2_l0.set_xlim(0, len(loss_history_l0))\n",
        "ax2_l0.set_ylim(0, max(loss_history_l0) * 1.1 if loss_history_l0 else 1)\n",
        "line_l0, = ax2_l0.plot([], [], color='blue')\n",
        "ax2_l0.set_xlabel('Epoka')\n",
        "ax2_l0.set_ylabel('Strata')\n",
        "ax2_l0.set_title('Przebieg funkcji straty L0')\n",
        "ax2_l0.grid()\n",
        "\n",
        "def update_l0(frame):\n",
        "    # Aktualizacja położenia punktów\n",
        "    scatter_l0.set_offsets(trajectories_l0[frame])\n",
        "\n",
        "    # Aktualizacja wykresu straty\n",
        "    line_l0.set_data(range(frame + 1), loss_history_l0[:frame + 1])\n",
        "\n",
        "    return scatter_l0, line_l0\n",
        "\n",
        "ani_l0 = animation.FuncAnimation(fig_l0, update_l0, frames=len(trajectories_l0), interval=50, blit=True)\n",
        "print(\"Ostatnia wartość funkcji błędu L0:\", loss_history_l0[-1])\n",
        "\n",
        "# Wyświetlenie animacji w notebooku\n",
        "HTML(ani_l0.to_jshtml())"
      ],
      "metadata": {
        "id": "e8ISMSVfPJHf"
      },
      "execution_count": null,
      "outputs": []
    },
    {
      "cell_type": "markdown",
      "source": [
        "##Dlaczego trening nie postępuje?\n",
        "Norma L0 jest zdefiniowana jako $L^{(0)}_{\\text{ellipse}}=\\frac{1}{N}∑_{i=1}^N\\mathbb{1}(ϵ_i\\neq1)$.\\\n",
        "Norma L0 zlicza więc stosunek liczby punktów, dla których błąd $𝜖_𝑖$ nie jest równy zero do liczby wszystkich punktów.\\\n",
        "Trening nie postępuje, ponieważ indykator $\\mathbb{1}_(ϵ_i\\neq1)$ jest funkcją skokową – zmienia się z 0 na 1 w sposób dyskretny, nie jest to zatem funkcja różniczkowalna. W optymalizacji gradientowej potrzebujemy ciągłych gradientów, a norma L0 ich nie dostarcza. Nawet jeśli spróbujemy ją przybliżyć np. używając funkcji sigmoidalnej (jest to sensowna propozycja na przybliżenie normy L0, ponieważ w granicach $\\pm∞$ funkcja sigmoidalna przyjmuje wartości 0 i 1, natomiast wysoki współczynnik alfa użyty w kodzie zapewnia gwałtowny skok między 0 a 1), gradienty są zerowe, co uniemożliwia skuteczne kierowanie punktami w stronę elipsy.\\\n",
        "**Wynik**: Trening nie postępuje, bo optymalizator nie otrzymuje użytecznych informacji o tym, jak dostosować pozycje punktów.\\\n",
        "Wnioski te są zgodne z animacją ruchu punktów, na której widać, że większość punktów jest nieruchoma, niektóre punkty nieznacznie się przemieszczają, jednak mimo to nie tworzą elipsy.\\\n",
        "Na wykresie straty widzimy, że strata jest prawie stale równa 1, co jest zgodne z brakiem zbliżania się do kształtu elipsy punktów przedstawionych w animacji."
      ],
      "metadata": {
        "id": "7V-lXvTjWhUV"
      }
    }
  ]
}